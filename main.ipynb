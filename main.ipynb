{
 "cells": [
  {
   "cell_type": "code",
   "execution_count": 165,
   "metadata": {},
   "outputs": [],
   "source": [
    "import numpy as np \n",
    "import pandas as pd \n",
    "import random\n",
    "import matplotlib.pyplot as plt"
   ]
  },
  {
   "cell_type": "code",
   "execution_count": 166,
   "metadata": {},
   "outputs": [
    {
     "name": "stdout",
     "output_type": "stream",
     "text": [
      "     Age  Gender      Height     Weight        BMI  PhysicalActivityLevel  \\\n",
      "0     56    Male  173.575262  71.982051  23.891783                      4   \n",
      "1     69    Male  164.127306  89.959256  33.395209                      2   \n",
      "2     46  Female  168.072202  72.930629  25.817737                      4   \n",
      "3     32    Male  168.459633  84.886912  29.912247                      3   \n",
      "4     60    Male  183.568568  69.038945  20.487903                      3   \n",
      "..   ...     ...         ...        ...        ...                    ...   \n",
      "995   18    Male  155.588674  64.103182  26.480345                      4   \n",
      "996   35  Female  165.076490  97.639771  35.830783                      1   \n",
      "997   49  Female  156.570956  78.804284  32.146036                      1   \n",
      "998   64    Male  164.192222  57.978115  21.505965                      4   \n",
      "999   66  Female  178.537130  74.962164  23.517168                      1   \n",
      "\n",
      "    ObesityCategory  \n",
      "0     Normal weight  \n",
      "1             Obese  \n",
      "2        Overweight  \n",
      "3        Overweight  \n",
      "4     Normal weight  \n",
      "..              ...  \n",
      "995      Overweight  \n",
      "996           Obese  \n",
      "997           Obese  \n",
      "998   Normal weight  \n",
      "999   Normal weight  \n",
      "\n",
      "[1000 rows x 7 columns]\n"
     ]
    }
   ],
   "source": [
    "dataframe = pd.read_csv('./obesity_data.csv')\n",
    "print(dataframe)"
   ]
  },
  {
   "cell_type": "code",
   "execution_count": 167,
   "metadata": {},
   "outputs": [
    {
     "name": "stdout",
     "output_type": "stream",
     "text": [
      "[[56 'Male' 173.5752624383722 ... 23.89178262396797 4 'Normal weight']\n",
      " [69 'Male' 164.1273058223382 ... 33.39520945079775 2 'Obese']\n",
      " [46 'Female' 168.0722021276139 ... 25.81773745564312 4 'Overweight']\n",
      " ...\n",
      " [49 'Female' 156.57095601730393 ... 32.14603570597436 1 'Obese']\n",
      " [64 'Male' 164.1922221149603 ... 21.505964950969545 4 'Normal weight']\n",
      " [66 'Female' 178.5371304568283 ... 23.51716758335692 1 'Normal weight']]\n",
      "Processed Data\n",
      "[[56 1 173.5752624383722 ... 23.89178262396797 4 2]\n",
      " [69 1 164.1273058223382 ... 33.39520945079775 2 4]\n",
      " [46 0 168.0722021276139 ... 25.81773745564312 4 3]\n",
      " ...\n",
      " [49 0 156.57095601730393 ... 32.14603570597436 1 4]\n",
      " [64 1 164.1922221149603 ... 21.505964950969545 4 2]\n",
      " [66 0 178.5371304568283 ... 23.51716758335692 1 2]]\n"
     ]
    }
   ],
   "source": [
    "data = np.array(dataframe)\n",
    "print(data)\n",
    "# getting data and processing data\n",
    "for i in range(data.shape[0]):\n",
    "    for j in range(data.shape[1]):\n",
    "        # Male is 1 and Female is 0\n",
    "        if data[i,j] == 'Male':\n",
    "            data[i,j] = 1\n",
    "        if data[i,j] == 'Female':\n",
    "            data[i,j] = 0\n",
    "        # Normal Weight = 0, Overweight = 1, Obese = 2\n",
    "        if data[i,j] == 'Underweight':\n",
    "            data[i,j] = 1\n",
    "        if data[i,j] == 'Normal weight':\n",
    "            data[i,j] = 2\n",
    "        if data[i,j] == 'Overweight':\n",
    "            data[i,j] = 3\n",
    "        if data[i,j] == 'Obese':\n",
    "            data[i,j] = 4\n",
    "        \n",
    "        # data whitening // can be done later\n",
    "        \n",
    "print('Processed Data')\n",
    "print(data)"
   ]
  },
  {
   "cell_type": "code",
   "execution_count": 168,
   "metadata": {},
   "outputs": [
    {
     "name": "stdout",
     "output_type": "stream",
     "text": [
      "(1000, 7)\n",
      "[0, 1, 2, 3, 4, 5, 6, 7, 11, 12, 13, 14, 16, 18, 19, 20, 21, 22, 23, 24, 26, 27, 28, 29, 31, 33, 34, 35, 37, 39, 40, 41, 42, 43, 44, 45, 46, 47, 48, 49, 50, 51, 52, 53, 54, 56, 58, 59, 60, 61, 62, 63, 64, 66, 67, 68, 69, 70, 71, 72, 75, 76, 77, 80, 81, 82, 83, 84, 85, 86, 87, 90, 91, 94, 95, 96, 98, 99, 100, 101, 102, 103, 104, 105, 107, 108, 109, 110, 112, 113, 115, 117, 119, 120, 121, 122, 123, 125, 126, 127, 128, 129, 130, 131, 132, 134, 135, 137, 138, 141, 142, 143, 144, 146, 147, 149, 150, 153, 154, 155, 157, 159, 160, 164, 165, 166, 167, 168, 169, 170, 171, 173, 175, 176, 178, 179, 180, 181, 182, 183, 184, 185, 186, 187, 188, 190, 191, 192, 193, 194, 195, 196, 197, 198, 200, 201, 202, 203, 205, 206, 207, 208, 209, 210, 211, 212, 213, 214, 215, 217, 218, 220, 221, 222, 224, 225, 226, 228, 229, 230, 231, 232, 235, 236, 237, 238, 239, 240, 241, 245, 246, 247, 248, 249, 250, 251, 253, 254, 255, 256, 257, 259, 261, 262, 263, 264, 266, 268, 269, 270, 271, 272, 273, 274, 275, 276, 277, 279, 280, 281, 282, 283, 284, 285, 286, 288, 289, 291, 292, 293, 294, 295, 296, 297, 298, 299, 300, 301, 302, 305, 306, 308, 309, 310, 311, 313, 316, 317, 318, 319, 320, 321, 322, 323, 324, 325, 326, 327, 328, 329, 330, 331, 334, 335, 337, 338, 339, 340, 341, 342, 343, 344, 345, 346, 347, 348, 349, 350, 352, 353, 354, 356, 357, 358, 359, 360, 362, 363, 364, 366, 368, 369, 370, 371, 373, 374, 375, 377, 378, 379, 380, 382, 384, 385, 386, 387, 388, 389, 390, 391, 392, 393, 394, 396, 397, 398, 399, 400, 401, 402, 403, 404, 405, 406, 407, 408, 409, 410, 411, 412, 413, 414, 415, 416, 417, 418, 419, 420, 421, 422, 424, 425, 427, 428, 429, 430, 431, 432, 433, 434, 436, 437, 438, 439, 440, 441, 442, 443, 445, 446, 447, 448, 450, 451, 452, 453, 454, 455, 456, 459, 460, 462, 463, 464, 465, 466, 467, 468, 469, 470, 471, 472, 473, 474, 475, 477, 478, 479, 480, 481, 482, 484, 485, 486, 487, 490, 492, 493, 494, 495, 496, 497, 498, 499, 500, 502, 503, 504, 505, 506, 507, 508, 509, 511, 512, 513, 514, 515, 516, 517, 518, 519, 521, 523, 524, 526, 527, 528, 530, 531, 532, 534, 535, 536, 537, 540, 541, 542, 543, 544, 546, 547, 548, 550, 551, 552, 553, 554, 555, 556, 558, 559, 562, 563, 564, 566, 567, 568, 570, 571, 572, 573, 574, 576, 577, 578, 579, 581, 582, 583, 584, 585, 586, 587, 588, 589, 590, 592, 593, 594, 595, 597, 598, 600, 601, 602, 603, 604, 606, 607, 609, 611, 614, 616, 617, 618, 620, 622, 623, 624, 625, 626, 627, 629, 630, 631, 632, 633, 634, 635, 636, 637, 638, 639, 640, 643, 644, 645, 646, 647, 648, 649, 650, 651, 652, 653, 654, 656, 657, 659, 661, 662, 664, 666, 667, 669, 670, 671, 673, 674, 675, 676, 678, 681, 682, 683, 684, 685, 686, 687, 688, 689, 690, 691, 692, 693, 694, 696, 697, 698, 699, 702, 704, 705, 706, 707, 708, 709, 710, 713, 714, 716, 717, 718, 719, 720, 721, 722, 723, 724, 725, 726, 727, 728, 729, 730, 732, 733, 734, 735, 736, 737, 738, 739, 740, 741, 742, 744, 745, 746, 747, 748, 749, 750, 751, 752, 753, 754, 755, 756, 759, 761, 762, 763, 764, 765, 766, 767, 768, 769, 770, 772, 773, 774, 775, 776, 779, 780, 781, 782, 783, 785, 786, 787, 788, 789, 790, 791, 792, 793, 794, 795, 796, 797, 798, 799, 801, 802, 803, 804, 805, 806, 807, 808, 809, 810, 811, 814, 815, 816, 819, 821, 823, 824, 826, 827, 829, 830, 832, 834, 835, 836, 837, 838, 839, 840, 841, 842, 844, 845, 846, 847, 848, 849, 851, 853, 854, 856, 857, 860, 861, 862, 864, 865, 866, 867, 868, 869, 872, 874, 875, 876, 877, 878, 879, 880, 882, 884, 885, 887, 888, 890, 891, 893, 895, 896, 897, 898, 899, 900, 901, 902, 903, 904, 905, 907, 908, 909, 910, 911, 912, 913, 914, 915, 916, 917, 918, 919, 920, 922, 923, 925, 926, 927, 928, 930, 931, 932, 933, 934, 935, 936, 937, 938, 939, 942, 943, 944, 946, 947, 948, 949, 950, 951, 952, 953, 954, 955, 956, 959, 960, 961, 964, 965, 966, 967, 968, 969, 971, 972, 973, 974, 975, 976, 977, 980, 981, 982, 983, 986, 987, 988, 990, 991, 992, 993, 995, 996, 997, 999]\n",
      "[8, 9, 10, 15, 17, 25, 30, 32, 36, 38, 55, 57, 65, 73, 74, 78, 79, 88, 89, 92, 93, 97, 106, 111, 114, 116, 118, 124, 133, 136, 139, 140, 145, 148, 151, 152, 156, 158, 161, 162, 163, 172, 174, 177, 189, 199, 204, 216, 219, 223, 227, 233, 234, 242, 243, 244, 252, 258, 260, 265, 267, 278, 287, 290, 303, 304, 307, 312, 314, 315, 332, 333, 336, 351, 355, 361, 365, 367, 372, 376, 381, 383, 395, 423, 426, 435, 444, 449, 457, 458, 461, 476, 483, 488, 489, 491, 501, 510, 520, 522, 525, 529, 533, 538, 539, 545, 549, 557, 560, 561, 565, 569, 575, 580, 591, 596, 599, 605, 608, 610, 612, 613, 615, 619, 621, 628, 641, 642, 655, 658, 660, 663, 665, 668, 672, 677, 679, 680, 695, 700, 701, 703, 711, 712, 715, 731, 743, 757, 758, 760, 771, 777, 778, 784, 800, 812, 813, 817, 818, 820, 822, 825, 828, 831, 833, 843, 850, 852, 855, 858, 859, 863, 870, 871, 873, 881, 883, 886, 889, 892, 894, 906, 921, 924, 929, 940, 941, 945, 957, 958, 962, 963, 970, 978, 979, 984, 985, 989, 994, 998]\n",
      "(200, 6)\n",
      "(800, 6)\n",
      "(200, 1)\n",
      "(800, 1)\n"
     ]
    }
   ],
   "source": [
    "\n",
    "x = data[:,:6]\n",
    "y = data[:,6:]\n",
    "print(data.shape)\n",
    "\n",
    "# # to be commented\n",
    "# np.random.seed(0)\n",
    "# random.seed(0)\n",
    "\n",
    "# dividing test data and training data\n",
    "n = data.shape[0]\n",
    "training_indices = random.sample(range(n),int(0.8*n))\n",
    "test_indices = list(set(range(n)) - set(training_indices))\n",
    "training_indices.sort()\n",
    "test_indices.sort()\n",
    "print(training_indices)\n",
    "print(test_indices)\n",
    "x_test = np.array([x[i] for i in test_indices])\n",
    "x_training = np.array([x[i] for i in training_indices])\n",
    "y_test = np.array([y[i] for i in test_indices])\n",
    "y_training = np.array([y[i] for i in training_indices])\n",
    "print(x_test.shape)\n",
    "print(x_training.shape)\n",
    "print(y_test.shape)\n",
    "print(y_training.shape)"
   ]
  },
  {
   "cell_type": "code",
   "execution_count": 169,
   "metadata": {},
   "outputs": [
    {
     "name": "stdout",
     "output_type": "stream",
     "text": [
      "0.93\n"
     ]
    }
   ],
   "source": [
    "def distance(Xarray1,Xarray2):\n",
    "    '''Lenth of Xarray1 and Xarray 2 should be same'''\n",
    "    dis = 0\n",
    "    for i in range(len(Xarray1)):\n",
    "        dis += (Xarray1[i] - Xarray2[i])**2\n",
    "    return dis**0.5\n",
    "\n",
    "def Accuracy(x_test,y_test,y_predicted):\n",
    "    n = len(x_test)\n",
    "    m = 0\n",
    "    for i in range(n):\n",
    "        if y_test[i] == y_predicted[i]:\n",
    "            m += 1\n",
    "    return round(m/n,3)\n",
    "\n",
    "def mode(l):\n",
    "    d = {}\n",
    "    for i in l:\n",
    "        if i in d:\n",
    "            d[i] += 1\n",
    "        else:\n",
    "            d[i] = 1\n",
    "    return max(d,key= d.get)\n",
    "\n",
    "def KNNClassifier(x_test , x_training, y_training, k):\n",
    "    y_predicted = []\n",
    "    for test_point in x_test:\n",
    "        l = []\n",
    "        for i in range(len(x_training)):\n",
    "            l.append([ y_training[i,0] , distance(test_point, x_training[i][:]) ])\n",
    "        l.sort(key= lambda x : x[1])\n",
    "        y_predicted.append(mode(l[:k][0]))\n",
    "    return y_predicted\n",
    "\n",
    "y_predicted = KNNClassifier(x_test , x_training, y_training, 25)\n",
    "print(Accuracy(x_test,y_test,y_predicted))"
   ]
  },
  {
   "cell_type": "code",
   "execution_count": 171,
   "metadata": {},
   "outputs": [
    {
     "name": "stdout",
     "output_type": "stream",
     "text": [
      "[4]\n"
     ]
    }
   ],
   "source": [
    "# Age,Gender,Height,Weight,BMI,PhysicalActivityLevel\n",
    "x_test2 = np.array([[45,0,178,100,25.8,4]])\n",
    "print(KNNClassifier(x_test2 , x_training, y_training, 25))"
   ]
  },
  {
   "cell_type": "code",
   "execution_count": 175,
   "metadata": {},
   "outputs": [
    {
     "name": "stdout",
     "output_type": "stream",
     "text": [
      "[41, 0, 160, 63, 24.609374999999996, 2]\n",
      "You are Normal weight\n"
     ]
    }
   ],
   "source": [
    "age = int(input(\"Enter your Age: \"))\n",
    "gender = input(\"Enter your Gender: \")\n",
    "if gender.lower() == 'male':\n",
    "    gender = 1\n",
    "else:\n",
    "    gender = 0\n",
    "height = int(input(\"Enter your Height(cm): \"))\n",
    "weight = int(input(\"Enter your Weight(kg)\"))\n",
    "BMI = weight/(height/100)**2 # weight in kg / (height in meter)**2\n",
    "PyAct = int(input(\"Rate your physical Activy in rate of 1 to 4: \"))\n",
    "l = [age,gender,height,weight,BMI,PyAct]\n",
    "print(l)\n",
    "x_test3 = np.array([l])\n",
    "Pclass = KNNClassifier(x_test3 , x_training, y_training, 25)\n",
    "if Pclass == [1]:\n",
    "    print('You are Underweight! You should eat more !')\n",
    "if Pclass == [2]:\n",
    "    print('You are Normal weight')\n",
    "if Pclass == [3]:\n",
    "    print('You are Overweight')\n",
    "if Pclass == [4]:\n",
    "    print('You are Obese! You should workout !')\n"
   ]
  }
 ],
 "metadata": {
  "kernelspec": {
   "display_name": "Python 3",
   "language": "python",
   "name": "python3"
  },
  "language_info": {
   "codemirror_mode": {
    "name": "ipython",
    "version": 3
   },
   "file_extension": ".py",
   "mimetype": "text/x-python",
   "name": "python",
   "nbconvert_exporter": "python",
   "pygments_lexer": "ipython3",
   "version": "3.12.1"
  }
 },
 "nbformat": 4,
 "nbformat_minor": 2
}
